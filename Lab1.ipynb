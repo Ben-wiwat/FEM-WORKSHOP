{
 "metadata": {
  "language_info": {
   "codemirror_mode": {
    "name": "ipython",
    "version": 3
   },
   "file_extension": ".py",
   "mimetype": "text/x-python",
   "name": "python",
   "nbconvert_exporter": "python",
   "pygments_lexer": "ipython3",
   "version": "3.9.4"
  },
  "orig_nbformat": 2,
  "kernelspec": {
   "name": "python3",
   "display_name": "Python 3.9.4 64-bit ('venv': venv)"
  },
  "metadata": {
   "interpreter": {
    "hash": "c1c7e8fb61275a44722b78673d57d7a860379092b0a6d246f1112a95daafba31"
   }
  },
  "interpreter": {
   "hash": "654370b2c2f37a03f86fb4ad6a092cd75dc8b2b02d2b1390f5ace7fc22817620"
  }
 },
 "nbformat": 4,
 "nbformat_minor": 2,
 "cells": [
  {
   "cell_type": "markdown",
   "source": [
    "# MATH5004 Advanced Numerical Analysis\r\n",
    "### Unit Coordinator / Lecturer: Assoc/Prof. Benchawan Wiwatanapataphee\r\n",
    "## Lab 1 - Introduction to Python\r\n",
    "\r\n",
    "Welcome to Supply Chain Modelling and Optimisation 2021! This unit introduces \r\n",
    "- key concepts and activities in the areas of logistics and supply chain management and establishes the distinct role each plays in industrial modelling and optimisation, \r\n",
    "- basic skills in analysing, classifying and solving the fundamental components of inventory systems are developed using both single and multi-commodity deterministic and stochastic models, \r\n",
    "- forecasting techniques and practices.\r\n",
    "\r\n",
    "In the programming section of the unit, we are going to use **Jupyter Notebook** associated with the IPython kernel. \r\n",
    "\r\n",
    "### Why Python and Jupyter?\r\n",
    "\r\n",
    "**Python** is an interpreted, general-purpose, object-oriented, high-level programming language with dynamic semantics. It has a strong position in scientific computing with a large community of users and available documentation. With an extensive ecosystem of scientific libraries and environments such as **numpy**, **scipy**, and **matplotlib**, it allows user to work on various scientific topics, especially computer science, mathematics, statistics, and optimisation.\r\n",
    "\r\n",
    "**Jupyter** provides the web-based notebook application, which allows user to write, run, display, and document the output produced by the code. This means that we are able to capture the entire workflow in a single file, which can be saved, restored, and reused later on.\r\n",
    "\r\n",
    "In this lab, we are going to introduce the basic idea of scientific computing using Python.\r\n",
    "\r\n",
    "### Numeric Operations\r\n",
    "\r\n",
    "Python supports the usual mathematical operations on numbers\r\n",
    "\r\n",
    "| Operators | Operations | Example |\r\n",
    "| -------------- | --------------- | ------------ |\r\n",
    "| + | Addition | 2 + 2 = 4 |\r\n",
    "| - | Subtraction | 7 - 2 = 5 |\r\n",
    "| * | Multiplication | 2 * 3 = 6 |\r\n",
    "| / | Float division | 22 / 7 = 3.142857 |\r\n",
    "| ** | Exponentiation | 3 ** 2 = 9 |\r\n",
    "| abs() | Absolute value | abs(-20) = 20 |\r\n",
    "| // | Integer division | 22 // 7 = 3 |\r\n",
    "| % | Modulus/Remainder | 22 % 7 = 1 |\r\n",
    "\r\n",
    "#### Exercise 1\r\n",
    "\r\n",
    "Try writing the mathematical operations given in the above example and see whether you get the same answer. To insert a new code cell, click on the '+' button on the toolbar above or on the left-hand side of each code cell. To run a code cell, using Shift-Enter or pressing the Run icon for each code cell.\r\n"
   ],
   "metadata": {}
  },
  {
   "cell_type": "code",
   "execution_count": 1,
   "source": [
    "2 + 2"
   ],
   "outputs": [
    {
     "output_type": "execute_result",
     "data": {
      "text/plain": [
       "4"
      ]
     },
     "metadata": {},
     "execution_count": 1
    }
   ],
   "metadata": {}
  },
  {
   "cell_type": "markdown",
   "source": [
    "### Basic Data Types\n",
    "\n",
    "The data type of an object determines what values it can have and what operations can be performed on it. Whole numbers are represented using the integer data type (or int), which can be either positive or negative. Numbers that can have fractional parts are represented as floating-point (or float) values. Complex numbers (or complex), which consist of a real (x) and a imaginary part (y) is represented by x + yj. \n",
    "\n",
    "| Data Type | Example |\n",
    "| --------- | ------- |\n",
    "| Integers (int) | -2, -1, 0, 1, 2, 3, 4, 5 |\n",
    "| Floating-point numbers (float) | -1.25, -1.0, -0.5, 0.0, 0.5, 1.0, 1.25 |\n",
    "| Complex numbers (complex) | 2+3j |\n",
    "| Strings (str) | 'a', 'aa', 'aaa', 'Hello!', '11 cats' |\n",
    "\n",
    "Python provides a special function called **type()** that tells us the data type (or \"class\") of any value. For example,"
   ],
   "metadata": {}
  },
  {
   "cell_type": "code",
   "execution_count": 2,
   "source": [
    "type(-2)"
   ],
   "outputs": [
    {
     "output_type": "execute_result",
     "data": {
      "text/plain": [
       "int"
      ]
     },
     "metadata": {},
     "execution_count": 2
    }
   ],
   "metadata": {}
  },
  {
   "cell_type": "markdown",
   "source": [
    "Moreover, type conversion also available using the following functions:\n",
    "\n",
    "| Conversion fucntion | Example | Value returned |\n",
    "| ------------------- | ------- | -------------- |\n",
    "| int($<$float$>$) | int(3.14) | 3 |\n",
    "| int($<$str$>$) | int(\"100\") | 100 |\n",
    "| float($<$int or str$>$) | float(15) | 15.0 |\n",
    "| str($<$any value$>$) | str(100) | '100' |"
   ],
   "metadata": {}
  },
  {
   "cell_type": "markdown",
   "source": [
    "#### Exercise 2\n",
    "\n",
    "2.1 Try using the **type()** function for the following:\n",
    "\n",
    "22/7, 3e-04, Hello, \"Hello!\", 'Hello!', True, $[$\"cat\", 3.14$]$, {'name': 'Ben', 'id': 1}\n",
    "\n",
    "Do both single quotes and double quotes work interchangeable for string type data?\n",
    "What are bool, list, and dict? \n",
    "If you encounter an error, what do you think is the cause?\n",
    "\n",
    "2.2 Try converting \"3.14\" to int. If you encounter an error, what do you think is the cause?"
   ],
   "metadata": {}
  },
  {
   "cell_type": "markdown",
   "source": [
    "### Variables\n",
    "\n",
    "A variable is an identifier that stores a value. We can name a variable anything as long as it obeys the following rules:\n",
    "\n",
    "- It can be only one word.\n",
    "- It can use only letters, numbers, and the underscore (_) character.\n",
    "- It cannot begin with a number\n",
    "- Variable name starting with an underscore (_) are deemed as unuseful.\n",
    "\n",
    "The basic assignment statement has this form:\n",
    "\n",
    "$<$variable$>$ = $<$expr$>$\n",
    "\n",
    "A variable can be assigned many times, and it will always retain the value of the most recent assignment.  For example,"
   ],
   "metadata": {}
  },
  {
   "cell_type": "code",
   "execution_count": 3,
   "source": [
    "x = 2\r\n",
    "x"
   ],
   "outputs": [
    {
     "output_type": "execute_result",
     "data": {
      "text/plain": [
       "2"
      ]
     },
     "metadata": {},
     "execution_count": 3
    }
   ],
   "metadata": {}
  },
  {
   "cell_type": "code",
   "execution_count": 4,
   "source": [
    "x = 5\r\n",
    "x"
   ],
   "outputs": [
    {
     "output_type": "execute_result",
     "data": {
      "text/plain": [
       "5"
      ]
     },
     "metadata": {},
     "execution_count": 4
    }
   ],
   "metadata": {}
  },
  {
   "cell_type": "code",
   "execution_count": 5,
   "source": [
    "x = x + 1\r\n",
    "x"
   ],
   "outputs": [
    {
     "output_type": "execute_result",
     "data": {
      "text/plain": [
       "6"
      ]
     },
     "metadata": {},
     "execution_count": 5
    }
   ],
   "metadata": {}
  },
  {
   "cell_type": "markdown",
   "source": [
    "Also, simultaneous assignment where Python evaluate all expressions on the right-hand side and then assign these results to the corresponding variables named on the left-hand side is possible with the following form:\n",
    "\n",
    "$<$var1$>$, $<$var2$>$, ... , $<$varn$>$ = $<$expr1$>$, $<$expr2$>$, ... , $<$exprn$>$\n",
    "\n",
    "For example,"
   ],
   "metadata": {}
  },
  {
   "cell_type": "code",
   "execution_count": 6,
   "source": [
    "x = 5\r\n",
    "y = 2\r\n",
    "sum, diff = x+y, x-y"
   ],
   "outputs": [],
   "metadata": {}
  },
  {
   "cell_type": "code",
   "execution_count": 7,
   "source": [
    "sum"
   ],
   "outputs": [
    {
     "output_type": "execute_result",
     "data": {
      "text/plain": [
       "7"
      ]
     },
     "metadata": {},
     "execution_count": 7
    }
   ],
   "metadata": {}
  },
  {
   "cell_type": "code",
   "execution_count": 8,
   "source": [
    "diff"
   ],
   "outputs": [
    {
     "output_type": "execute_result",
     "data": {
      "text/plain": [
       "3"
      ]
     },
     "metadata": {},
     "execution_count": 8
    }
   ],
   "metadata": {}
  },
  {
   "cell_type": "markdown",
   "source": [
    "#### Note\n",
    "\n",
    "- We can click on 'Show variables active in jupyter kernel' to see all the variables we assigned in this notebook.\n",
    "- We can also use **del()** function to delete objects including variables, lists, or parts of a list, etc. Or, we can use a **%reset** command."
   ],
   "metadata": {}
  },
  {
   "cell_type": "code",
   "execution_count": 9,
   "source": [
    "del(x, y, sum, diff)"
   ],
   "outputs": [],
   "metadata": {}
  },
  {
   "cell_type": "code",
   "execution_count": 10,
   "source": [
    "%reset"
   ],
   "outputs": [],
   "metadata": {}
  },
  {
   "cell_type": "markdown",
   "source": [
    "### Defining function and assigning input\n",
    "\n",
    "By using **input()** function, we can assign **textual** input or get an information from user and then store it into a variable. The statement will look like this:\n",
    "\n",
    "$<$variable$>$ = input($<$prompt$>$)\n",
    "\n",
    "where $<$prompt$>$ is a string expression that is used to prompt the user for input. Upon executing the statement, Python will print out the prompt and then the interpreter will be paused waiting for user input.\n",
    "\n",
    "When the user input is a **number**, we we need to use **eval()** function to wrap around **input()** function:\n",
    "\n",
    "$<$variable$>$ = eval(input($<$prompt$>$))\n",
    "\n",
    "For example,"
   ],
   "metadata": {}
  },
  {
   "cell_type": "code",
   "execution_count": 11,
   "source": [
    "def info():\r\n",
    "    name = input(\"What's your name?\")\r\n",
    "    num = eval(input(\"What's your favourite number?\"))\r\n",
    "    print(\"Nice to meet you, {}! You are blessed with {} cookies!\".format(name, str(num)))\r\n",
    "\r\n",
    "info()"
   ],
   "outputs": [
    {
     "output_type": "stream",
     "name": "stdout",
     "text": [
      "Nice to meet you, Ben! You are blessed with 10 cookies!\n"
     ]
    }
   ],
   "metadata": {}
  },
  {
   "cell_type": "markdown",
   "source": [
    "In the above example, we defined a function called **info()** using the **def** keyword where Python print out the prompts \"What's your name?\" and \"What's your favourite number?\" and then store the user input in the variable 'name' and 'num', respectively.\n",
    "\n",
    "Then, the **print()** function is used to display the sentences. The **format()** function allows us to format the specified value(s) and insert them inside the string's placeholder, {}.\n",
    "\n",
    "It is noted that the indentation **must be uniform** to show that they are part of the  funtion. The blank line lets Python knows that the definition is finished. Lastly, the function is executed or invoked by typing its name followed by blackets ().\n",
    "\n",
    "Functions can also take parameters. For example,\n"
   ],
   "metadata": {}
  },
  {
   "cell_type": "code",
   "execution_count": 12,
   "source": [
    "def info2(name, num):\r\n",
    "    print(\"Nice to meet you, {}! You are blessed with {} cookies!\".format(name, str(num)))\r\n",
    "\r\n",
    "info2(\"Ben\", 10000000)"
   ],
   "outputs": [
    {
     "output_type": "stream",
     "name": "stdout",
     "text": [
      "Nice to meet you, Ben! You are blessed with 10000000 cookies!\n"
     ]
    }
   ],
   "metadata": {}
  },
  {
   "cell_type": "markdown",
   "source": [
    "### Why do we need to use functions?\n",
    "\n",
    "- Once the function is defined, it can be used many times.\n",
    "- Aids problem decomposition where difficult problem can be broken down into smaller, manageable pieces.\n",
    "- Allows independent testing/validation of code\n",
    "- However, all functions that we defined will cease to exist once we exit Python interpreter. So, if we want to use the function elsewhere, we have to create a module file. For example, hello_world.py."
   ],
   "metadata": {}
  },
  {
   "cell_type": "code",
   "execution_count": 13,
   "source": [
    "import hello_world"
   ],
   "outputs": [
    {
     "output_type": "stream",
     "name": "stdout",
     "text": [
      "Hello, World.\n"
     ]
    }
   ],
   "metadata": {}
  },
  {
   "cell_type": "markdown",
   "source": [
    "#### Return Values and return Statements\n",
    "\n",
    "So far, we have been using **print()** function to show the human user a string representing what is going on inside computer. However, the computer cannot make use of that printing in further function. Considering when we would like to break down a difficult problem into many smaller problems, how can the results in one function be passed to another function? That is where the **return** statement comes in.\n",
    "\n",
    "When creating a function using the def statement, you can specify what the return value should be with a return statement. A return statement consists of the following:\n",
    "\n",
    "- The return keyword.\n",
    "- the value or expression that the function should return.\n",
    "\n",
    "For example,\n",
    "\n",
    "The following code cell requires an installation of two python libraries including, **numpy** and **math**.\n",
    "If you haven't already install them, please run the following command in your terminal/powerShell/cmd:\n",
    "\n",
    "> pip install numpy <br>\n",
    "> pip install math"
   ],
   "metadata": {}
  },
  {
   "cell_type": "code",
   "execution_count": 14,
   "source": [
    "import numpy, math\r\n",
    "def fiveNumSummary(data):\r\n",
    "    min = numpy.min(data)\r\n",
    "    q1 = numpy.percentile(data, 25)\r\n",
    "    q2 = numpy.percentile(data, 50)\r\n",
    "    q3 = numpy.percentile(data, 75)\r\n",
    "    max = numpy.max(data)\r\n",
    "    return min, q1, q2, q3, max\r\n",
    "\r\n",
    "x = [1,2,15,3,6,17,8,16,8,3,10,12,16,12,9]\r\n",
    "fiveNumSummary(x)"
   ],
   "outputs": [
    {
     "output_type": "execute_result",
     "data": {
      "text/plain": [
       "(1, 4.5, 9.0, 13.5, 17)"
      ]
     },
     "metadata": {},
     "execution_count": 14
    }
   ],
   "metadata": {}
  },
  {
   "cell_type": "markdown",
   "source": [
    "#### Exercise 3\n",
    "Write a function to calculate an average value between the two numbers."
   ],
   "metadata": {}
  },
  {
   "cell_type": "code",
   "execution_count": 15,
   "source": [
    "def avg(num1, num2):\r\n",
    "    avg = (num1 + num2)/2\r\n",
    "    print(avg)\r\n",
    "    # return avg\r\n",
    "\r\n",
    "avg(10, 20)"
   ],
   "outputs": [
    {
     "output_type": "stream",
     "name": "stdout",
     "text": [
      "15.0\n"
     ]
    }
   ],
   "metadata": {}
  },
  {
   "cell_type": "markdown",
   "source": [
    "### Definite Loops\n",
    "\n",
    "A definite loop executes a pre-specified number of times, iterations, which is known when program loaded. The statement will look like this:\n",
    "\n",
    "for $<$var$>$ in $<$sequence$>$: <br>\n",
    "&nbsp;&nbsp;&nbsp;&nbsp;&nbsp;&nbsp;$<$body$>$\n",
    "\n",
    "It is noted that the beginning and end of the body are indicated by indentation, and iterations are over sequences. For example,"
   ],
   "metadata": {}
  },
  {
   "cell_type": "code",
   "execution_count": 16,
   "source": [
    "print(\"num\", \"square\")\r\n",
    "for num in list(range(5)):\r\n",
    "    print(num, num*num, sep=' '*5)"
   ],
   "outputs": [
    {
     "output_type": "stream",
     "name": "stdout",
     "text": [
      "num square\n",
      "0     0\n",
      "1     1\n",
      "2     4\n",
      "3     9\n",
      "4     16\n"
     ]
    }
   ],
   "metadata": {}
  },
  {
   "cell_type": "markdown",
   "source": [
    "The above example shows the numbers returned from list(range(5)) and its square value.\n",
    "Notice that Python uses zero-based indexing, which means that the first element has an index 0.\n",
    "\n",
    "#### Exercise 4\n",
    "\n",
    "4.1 Write a function to calculate factorial of a given number.\n",
    "\n",
    "4.2 Write a function to calculate a future value of given principal in 10-year time\n",
    "\n",
    "Hints: You may find some of these built-in functions useful.\n",
    "\n",
    "| Function | Description |\n",
    "| -------- | ----------- |\n",
    "| range(stop) | Returns list of ints from 0 to stop-1 |\n",
    "| range(start, stop) | Returns list of ints from start to stop-1 |\n",
    "| range(start, stop, step) | Returns list of ints from start to stop counting by step |\n",
    "| round(x) | Returns nearest whole value of x (as a float) |"
   ],
   "metadata": {}
  },
  {
   "cell_type": "code",
   "execution_count": 17,
   "source": [
    "def facto(num):\r\n",
    "    fact = 1\r\n",
    "    for i in range(num, 1, -1):\r\n",
    "        fact = fact * i\r\n",
    "    print(\"Factorial of\", num, \"is\", fact)\r\n",
    "\r\n",
    "facto(5)"
   ],
   "outputs": [
    {
     "output_type": "stream",
     "name": "stdout",
     "text": [
      "Factorial of 5 is 120\n"
     ]
    }
   ],
   "metadata": {}
  },
  {
   "cell_type": "code",
   "execution_count": 18,
   "source": [
    "def futval(princ, apr, year):\r\n",
    "    \"\"\" This function calculate the future value of the principal given the annual interest rate, apr. \"\"\"\r\n",
    "    for i in range(year):\r\n",
    "        princ *= (1 + apr)\r\n",
    "    print(\"The future value in {1}-year time is {0:.2f}.\".format(princ, year))\r\n",
    "\r\n",
    "futval(1000, 0.025, 10)"
   ],
   "outputs": [
    {
     "output_type": "stream",
     "name": "stdout",
     "text": [
      "The future value in 10-year time is 1280.08.\n"
     ]
    }
   ],
   "metadata": {}
  },
  {
   "cell_type": "markdown",
   "source": [
    "### Indefinite Loop\n",
    "\n",
    "For definite loop, we have to identify how many iterations there are. This is working just fine as long as the number of iterations is not large, or worse, the number of iterations is unknown or predefined by some conditions.\n",
    "\n",
    "It would be much more advantageous if the computer could take care of counting the numbers of iterations for us. However, the for loop is no longer feasible as it is a definite looop in which the number of iterations is determined when the loop starts. The solution to this lies in another kind of loop, the indefinite or conditional loop. An indefinite loop keeps iterating until certain conditions are met. But do keep in mind that there is no guarantee ahead of time regarding how many times the loop will go around.\n",
    "\n",
    "In Python, an indefinite loop is implemented using a while statement\n",
    "\n",
    "while $<$condition$>$: <br>\n",
    "&nbsp;&nbsp;&nbsp;&nbsp;&nbsp;&nbsp;$<$body$>$ <br>\n",
    "\n",
    "where $<$condition$>$ is a Boolean expression, and the body is a sequence of one or more statements. Also, we can also use **break** and **continue** statements to immediately exits the while loop's clause or to return the control to the beginning of the while loop. For example,"
   ],
   "metadata": {}
  },
  {
   "cell_type": "code",
   "execution_count": 19,
   "source": [
    "spam = 0\r\n",
    "while spam < 5:\r\n",
    "    print('Hello, world.')\r\n",
    "    spam = spam + 1"
   ],
   "outputs": [
    {
     "output_type": "stream",
     "name": "stdout",
     "text": [
      "Hello, world.\n",
      "Hello, world.\n",
      "Hello, world.\n",
      "Hello, world.\n",
      "Hello, world.\n"
     ]
    }
   ],
   "metadata": {}
  },
  {
   "cell_type": "code",
   "execution_count": 20,
   "source": [
    "while True:\r\n",
    "    print('Who are you?')\r\n",
    "    name = input()\r\n",
    "    if name != 'Ben':\r\n",
    "        continue\r\n",
    "    print('Hello, Ben. What is the password? (It is a fish.)')\r\n",
    "    password = input()\r\n",
    "    if password == 'swordfish':\r\n",
    "        break\r\n",
    "print('Access granted.')"
   ],
   "outputs": [
    {
     "output_type": "stream",
     "name": "stdout",
     "text": [
      "Who are you?\n",
      "Hello, Ben. What is the password? (It is a fish.)\n",
      "Access granted.\n"
     ]
    }
   ],
   "metadata": {}
  },
  {
   "cell_type": "markdown",
   "source": [
    "Would you be able to explain the examples above?"
   ],
   "metadata": {}
  },
  {
   "cell_type": "markdown",
   "source": [
    "### Math Library\n",
    "\n",
    "Besides numerical operations (+, -, *, **, /, //, %, abs()), there are various math functions available in a math library. To use a library, firstly we need to include the following line in the program."
   ],
   "metadata": {}
  },
  {
   "cell_type": "code",
   "execution_count": 21,
   "source": [
    "import math"
   ],
   "outputs": [],
   "metadata": {}
  },
  {
   "cell_type": "markdown",
   "source": [
    "By importing a library, all the functions that are defined within it will be available to the program from that point onwards. The following are some of the math library functions:\n",
    "\n",
    "| Python | Mathematics | Description |\n",
    "| ------ | ----------- | ----------- |\n",
    "| pi | $\\pi$ | An approximation of pi |\n",
    "| e | $e$ | An approximation of $e$ |\n",
    "| sqrt(x) | $\\sqrt{x}$ | The square root of $x$ |\n",
    "| sin(x) | $sin x$ | The sine of $x$ |\n",
    "| cos(x) | $cos x$ | The cosine of $x$ |\n",
    "| tan(x) | $tan x$ | The tangent of $x$ |\n",
    "| asin(x) | $arcsin x$ | The inverse of sine $x$ |\n",
    "| acos(x) | $arccos x$ | The inverse of cosine $x$ |\n",
    "| atan(x) | $arctan x$ | The inverse of tangent $x$ |\n",
    "| log(x) | $ln x$ | The natural (base $e$) logarithm of $x$ |\n",
    "| log10(x) | $log_{10}x$ | The common (base 10) logarithm of $x$ |\n",
    "| exp(x) | $e^x$ | The exponential of $x$ |\n",
    "| ceil(x) | $\\left \\lceil{x}\\right \\rceil$ | The smallest whole number $>=x$ |\n",
    "| floor(x) | $\\left \\lfloor{x}\\right \\rfloor$ | The largest whole number $<=x$ |\n",
    "\n",
    "To access the function libary routine, for example, pi, we need to access it as: math.pi"
   ],
   "metadata": {}
  },
  {
   "cell_type": "code",
   "execution_count": 22,
   "source": [
    "math.pi"
   ],
   "outputs": [
    {
     "output_type": "execute_result",
     "data": {
      "text/plain": [
       "3.141592653589793"
      ]
     },
     "metadata": {},
     "execution_count": 22
    }
   ],
   "metadata": {}
  },
  {
   "cell_type": "markdown",
   "source": [
    "#### Exercise 5\n",
    "\n",
    "Using the math library, write a function to determine roots of a quadratic equation, $ax^2 + bx + c = 0$.\n",
    "\n",
    "Hint: The formula for computing the roots of quadratic equation is $root = \\frac{-b \\pm \\sqrt{b^2 - 4ac}}{2a}$"
   ],
   "metadata": {}
  },
  {
   "cell_type": "code",
   "execution_count": 23,
   "source": [
    "def roots(a, b, c):\r\n",
    "    discRoot = math.sqrt(b*b - 4*a*c)\r\n",
    "    r1 = (-b + discRoot) / (2*a)\r\n",
    "    r2 = (-b - discRoot) / (2*a)\r\n",
    "    print(\"The solution are {0} and {1}\".format(r1, r2))\r\n",
    "\r\n",
    "roots(1, 2, -3)"
   ],
   "outputs": [
    {
     "output_type": "stream",
     "name": "stdout",
     "text": [
      "The solution are 1.0 and -3.0\n"
     ]
    }
   ],
   "metadata": {}
  },
  {
   "cell_type": "code",
   "execution_count": 24,
   "source": [
    "roots(1, 2, 3)"
   ],
   "outputs": [
    {
     "output_type": "error",
     "ename": "ValueError",
     "evalue": "math domain error",
     "traceback": [
      "\u001b[1;31m---------------------------------------------------------------------------\u001b[0m",
      "\u001b[1;31mValueError\u001b[0m                                Traceback (most recent call last)",
      "\u001b[1;32m<ipython-input-24-f928d0b32da6>\u001b[0m in \u001b[0;36m<module>\u001b[1;34m\u001b[0m\n\u001b[1;32m----> 1\u001b[1;33m \u001b[0mroots\u001b[0m\u001b[1;33m(\u001b[0m\u001b[1;36m1\u001b[0m\u001b[1;33m,\u001b[0m \u001b[1;36m2\u001b[0m\u001b[1;33m,\u001b[0m \u001b[1;36m3\u001b[0m\u001b[1;33m)\u001b[0m\u001b[1;33m\u001b[0m\u001b[1;33m\u001b[0m\u001b[0m\n\u001b[0m",
      "\u001b[1;32m<ipython-input-23-3556e235b2dd>\u001b[0m in \u001b[0;36mroots\u001b[1;34m(a, b, c)\u001b[0m\n\u001b[0;32m      1\u001b[0m \u001b[1;32mdef\u001b[0m \u001b[0mroots\u001b[0m\u001b[1;33m(\u001b[0m\u001b[0ma\u001b[0m\u001b[1;33m,\u001b[0m \u001b[0mb\u001b[0m\u001b[1;33m,\u001b[0m \u001b[0mc\u001b[0m\u001b[1;33m)\u001b[0m\u001b[1;33m:\u001b[0m\u001b[1;33m\u001b[0m\u001b[1;33m\u001b[0m\u001b[0m\n\u001b[1;32m----> 2\u001b[1;33m     \u001b[0mdiscRoot\u001b[0m \u001b[1;33m=\u001b[0m \u001b[0mmath\u001b[0m\u001b[1;33m.\u001b[0m\u001b[0msqrt\u001b[0m\u001b[1;33m(\u001b[0m\u001b[0mb\u001b[0m\u001b[1;33m*\u001b[0m\u001b[0mb\u001b[0m \u001b[1;33m-\u001b[0m \u001b[1;36m4\u001b[0m\u001b[1;33m*\u001b[0m\u001b[0ma\u001b[0m\u001b[1;33m*\u001b[0m\u001b[0mc\u001b[0m\u001b[1;33m)\u001b[0m\u001b[1;33m\u001b[0m\u001b[1;33m\u001b[0m\u001b[0m\n\u001b[0m\u001b[0;32m      3\u001b[0m     \u001b[0mr1\u001b[0m \u001b[1;33m=\u001b[0m \u001b[1;33m(\u001b[0m\u001b[1;33m-\u001b[0m\u001b[0mb\u001b[0m \u001b[1;33m+\u001b[0m \u001b[0mdiscRoot\u001b[0m\u001b[1;33m)\u001b[0m \u001b[1;33m/\u001b[0m \u001b[1;33m(\u001b[0m\u001b[1;36m2\u001b[0m\u001b[1;33m*\u001b[0m\u001b[0ma\u001b[0m\u001b[1;33m)\u001b[0m\u001b[1;33m\u001b[0m\u001b[1;33m\u001b[0m\u001b[0m\n\u001b[0;32m      4\u001b[0m     \u001b[0mr2\u001b[0m \u001b[1;33m=\u001b[0m \u001b[1;33m(\u001b[0m\u001b[1;33m-\u001b[0m\u001b[0mb\u001b[0m \u001b[1;33m-\u001b[0m \u001b[0mdiscRoot\u001b[0m\u001b[1;33m)\u001b[0m \u001b[1;33m/\u001b[0m \u001b[1;33m(\u001b[0m\u001b[1;36m2\u001b[0m\u001b[1;33m*\u001b[0m\u001b[0ma\u001b[0m\u001b[1;33m)\u001b[0m\u001b[1;33m\u001b[0m\u001b[1;33m\u001b[0m\u001b[0m\n\u001b[0;32m      5\u001b[0m     \u001b[0mprint\u001b[0m\u001b[1;33m(\u001b[0m\u001b[1;34m\"The solution are {0} and {1}\"\u001b[0m\u001b[1;33m.\u001b[0m\u001b[0mformat\u001b[0m\u001b[1;33m(\u001b[0m\u001b[0mr1\u001b[0m\u001b[1;33m,\u001b[0m \u001b[0mr2\u001b[0m\u001b[1;33m)\u001b[0m\u001b[1;33m)\u001b[0m\u001b[1;33m\u001b[0m\u001b[1;33m\u001b[0m\u001b[0m\n",
      "\u001b[1;31mValueError\u001b[0m: math domain error"
     ]
    }
   ],
   "metadata": {}
  },
  {
   "cell_type": "markdown",
   "source": [
    "However, we know that some of the quadratic equations have only single real root or do not have real roots at all. To check whether these are the case and to better handle errors, we move on to the next section.\n",
    "\n",
    "### Decisions and Control Flow Statements\n",
    "\n",
    "In the previous sections, we have viewed computer programs as sequences of instructions that are followed one after the other. However, sequencing is not sufficiently enough to solve every problem, and we need to alter the sequential flow of a program to suit the needs of a particular situation. \n",
    "\n",
    "In this section, we will take a look at decision structures, whih are statements that allow a program to execute different sequences of instructions for different cases. \n",
    "\n",
    "#### if Statement: One-Way Decision\n",
    "\n",
    "if $<$condition$>$: <br>\n",
    "&nbsp;&nbsp;&nbsp;&nbsp;&nbsp;&nbsp;$<$body (statements to execute if condition is True)$>$\n",
    "\n",
    "where $<$condition$>$ is a Boolean expression evaluates to values True or False, and $<$body$>$ is a sequence of one or more statements indented under the if heading.\n",
    "\n",
    "In order to write down a condition, we will need a relational operator or a logical operator to compare the values of two expression. The tables below show the list of available comparison operators and logical operators.\n",
    "\n",
    "#### Comparison Operators\n",
    "\n",
    "| Operator | Mathematics | Meaning |\n",
    "| -------- | ----------- | ------- |\n",
    "| $<$ | $<$ | Less than |\n",
    "| $<=$ | $\\leq$ | Less than or equal to |\n",
    "| $==$ | $=$ | Equal to |\n",
    "| $>=$ | $\\geq$ | Greater than or equal to |\n",
    "| $>$ | $>$ | Greater than |\n",
    "| $!=$ | $\\neq$ | Not equal to |\n",
    "\n",
    "#### Logical/Boolean operators\n",
    "\n",
    "| Operation | Meaning |\n",
    "| --------- | ------- |\n",
    "| not | Inverse the comparison result |\n",
    "| and | Returns True only if both inputs are True |\n",
    "| or | Returns False only if both inputs are False |\n",
    "\n",
    "#### Exercise 6\n",
    "\n",
    "Try executing the following line of code:\n",
    "\n",
    "2021 == 2021.0 <br>\n",
    "2021 == '2021' <br>\n",
    "'Hello' == 'hello' <br>\n",
    "'dog' != 'cat' <br>\n",
    "True != False <br>\n",
    "True is not False <br>\n",
    "(1 < 3) and (3 < 5) <br>\n",
    "(1 > 3) and (3 > 5) <br>\n",
    "(1 < 3) or (3 == 5) or (4 + 1 == 7) <br>\n",
    "if 2 + 2 == 4 and not 2 + 2 == 5 and 2 * 2 == 2 + 2: <br>\n",
    "&nbsp;&nbsp;&nbsp;&nbsp;&nbsp;&nbsp;print(\"These are true!\")"
   ],
   "metadata": {}
  },
  {
   "cell_type": "code",
   "execution_count": null,
   "source": [],
   "outputs": [],
   "metadata": {}
  },
  {
   "cell_type": "markdown",
   "source": [
    "#### if-else Statement: Two-Way Decisions\n",
    "\n",
    "In Python, a two-way deicision can be implemented by attaching an else clause onto an if clause. The statement will look like this:\n",
    "\n",
    "if $<$condition$>$: <br>\n",
    "    &nbsp;&nbsp;&nbsp;&nbsp;&nbsp;&nbsp; <br>\n",
    "else: <br>\n",
    "&nbsp;&nbsp;&nbsp;&nbsp;&nbsp;&nbsp;$<$statements$>$ <br>\n",
    "\n",
    "#### Exercise 7\n",
    "\n",
    "Using if-else statements, implement the roots function of Exercise 5 to handle the case of no roots, two repeated roots, and two distinct roots.\n",
    "\n",
    "Hint: Try checking whether $b^2-4ac$ is less than, equal, or greater than zero."
   ],
   "metadata": {}
  },
  {
   "cell_type": "code",
   "execution_count": 25,
   "source": [
    "def roots2(a, b, c):\r\n",
    "    check = b**2 - (4*a*c)\r\n",
    "    if check < 0:\r\n",
    "        print(\"The roots are complex.\")\r\n",
    "    else:\r\n",
    "        if check == 0:\r\n",
    "            r = -b / (2*a)\r\n",
    "            print(\"There are two repeated roots at\", r)\r\n",
    "        else:\r\n",
    "            discRoot = math.sqrt(check)\r\n",
    "            r1 = (-b + discRoot) / (2*a)\r\n",
    "            r2 = (-b - discRoot) / (2*a)\r\n",
    "            print(\"The solution are {0} and {1}\".format(r1, r2))\r\n",
    "\r\n",
    "roots2(1, 2, 3)"
   ],
   "outputs": [
    {
     "output_type": "stream",
     "name": "stdout",
     "text": [
      "The roots are complex.\n"
     ]
    }
   ],
   "metadata": {}
  },
  {
   "cell_type": "markdown",
   "source": [
    "#### elif Statement: Multi-Way Decision\n",
    "\n",
    "It is a good idea to write a pseudocode of an algorithm before we start writing the program itself, as it allows us to focus on main logic without being distracted by programming languages syntax.\n",
    "\n",
    "So far, our quadratic solver is technically working as expected. However, if we try writing down a pseudocode, we will see that there are exactly three possible paths.\n",
    "\n",
    "Check the value of $b^2-4ac$: <br>\n",
    "&nbsp;&nbsp;&nbsp;&nbsp;&nbsp;&nbsp;when < 0: handle the case of no roots <br>\n",
    "&nbsp;&nbsp;&nbsp;&nbsp;&nbsp;&nbsp;when = 0: handole the case of two repeated roots <br>\n",
    "&nbsp;&nbsp;&nbsp;&nbsp;&nbsp;&nbsp;when > 0: handle the case <br>\n",
    "\n",
    "Instead of using nest if-else statements, there is another way to write multi-way decisions in Python that preserves the semantics of the nested structures but gives it a more appealing look. The idea is to combine an el se followed immediately by an if into a single clause called an elif (pronounced \"ell-if\"). The statement will look like this:\n",
    "\n",
    "if $<$condition1$>$: <br>\n",
    "&nbsp;&nbsp;&nbsp;&nbsp;&nbsp;&nbsp;$<$case 1 statements$>$ <br>\n",
    "elif $<$condition2$>$: <br>\n",
    "&nbsp;&nbsp;&nbsp;&nbsp;&nbsp;&nbsp;$<$case 2 statements$>$ <br>\n",
    "elif $<$condition3$>$: <br>\n",
    "&nbsp;&nbsp;&nbsp;&nbsp;&nbsp;&nbsp;$<$case 3 statements$>$ <br>\n",
    "... <br>\n",
    "else: <br>\n",
    "&nbsp;&nbsp;&nbsp;&nbsp;&nbsp;&nbsp;$<$default statements$>$ <br>\n",
    "\n",
    "This form is used to set off any number of mutually exclusive code blocks. Python will evaluate each condition in turn looking for the first one that is true. If a true condition is found, the statements indented under that condition are executed,\n",
    "and control passes to the next statement after the entire if-elif-else.\n",
    "\n",
    "#### Exercise 8\n",
    "\n",
    "Using if-else and elif statements, implement the roots function of Exercise 7 to handle the case of no roots, two repeated roots, and two distinct roots."
   ],
   "metadata": {}
  },
  {
   "cell_type": "code",
   "execution_count": 26,
   "source": [
    "def roots3(a, b, c):\r\n",
    "    check = b**2 - (4*a*c)\r\n",
    "    if check < 0:\r\n",
    "        print(\"The roots are complex.\")\r\n",
    "    elif check == 0:\r\n",
    "        root = -b/(2*a)\r\n",
    "        print(\"There are repeated two roots at:\", root)\r\n",
    "    else:\r\n",
    "        root1 = (-b + math.sqrt(check)) / (2*a)\r\n",
    "        root2 = (-b - math.sqrt(check)) / (2*a)\r\n",
    "        print(\"The roots are:\", root1, \"and\", root2)\r\n",
    "\r\n",
    "roots3(1, 4, 4)"
   ],
   "outputs": [
    {
     "output_type": "stream",
     "name": "stdout",
     "text": [
      "There are repeated two roots at: -2.0\n"
     ]
    }
   ],
   "metadata": {}
  },
  {
   "cell_type": "markdown",
   "source": [
    "#### Exception Handling\n",
    "\n",
    "Our quadratic program uses decision structures to avoid taking the square root of a negative number and generating an error at runtime. This is a common pattern in many programs: using decisions to protect against rare but possible errors.\n",
    "\n",
    "In the case of the quadratic solver, we checked the data before the call to the sqrt function. Sometimes programs become so peppered with decisions to check for special cases that the main algorithm for handling the run-of-the-mill cases seems completely lost. Programming language designers have come up with mechanisms for exception handling that help to solve this design problem. The idea of an exception-handling mechanism is that the programmer can write code that catches and deals with errors that arise when the program is running. Rather than explicitly checking that each step in the algorithm was successful, a program with exception handling can in essence say, \"Do these steps, and if any problem crops up, handle it this way.\" \n",
    "\n",
    "try:<br>\n",
    "&nbsp;&nbsp;&nbsp;&nbsp;&nbsp;&nbsp;$<$body$>$ <br>\n",
    "except $<$ErrorType$>$: <br>\n",
    "&nbsp;&nbsp;&nbsp;&nbsp;&nbsp;&nbsp;$<$handler$>$ <br>\n",
    "\n",
    "For example,"
   ],
   "metadata": {}
  },
  {
   "cell_type": "code",
   "execution_count": 27,
   "source": [
    "def roots4(a, b, c):\r\n",
    "    try:\r\n",
    "        discRoot = math.sqrt(b**2 - (4 * a * c))\r\n",
    "        r1 = (-b + discRoot) / (2 * a)\r\n",
    "        r2 = (-b - discRoot) / (2 * a)\r\n",
    "        print(\"The solutions are:\", r1, r2)\r\n",
    "    except ValueError:\r\n",
    "        print(\"No real roots\")\r\n",
    "\r\n",
    "roots4(1, 2, 3)"
   ],
   "outputs": [
    {
     "output_type": "stream",
     "name": "stdout",
     "text": [
      "No real roots\n"
     ]
    }
   ],
   "metadata": {}
  },
  {
   "cell_type": "markdown",
   "source": [
    "#### File Processing\n",
    "\n",
    "A file is a sequence of data that is stored in secondary memory (disk drive). Files can contain any data type, but the easiest to work with are text. It usually contains more than one line of text in which Python uses the standard newline character (\\n) to mark line breaks.\n",
    "\n",
    "- Opening and closing Files\n",
    "\n",
    "$<$variable$>$ = open($<$name$>$, $<$mode$>$)\n",
    "\n",
    "where mode is \"r\" for reading, \"w\" for writing, and \"a\" for apppending.\n",
    "\n",
    "$<$fileobj$>$.close()\n",
    "\n",
    "- Reading a file\n",
    "\n",
    "$<$file$>$.read() returns the entire remaining contents of the file as a single (potentially large, multi-line) string.\n",
    "\n",
    "$<$file$>$.readline() returns the next line of the file. That is, all text up to and including the next newline character.\n",
    "\n",
    "$<$file$>$.readlines() returns a list of the remaining lines in the file. Each list item is a single line including the newline character at the end.\n",
    "\n",
    "Note: The file object may also be used in a for loop where it is treated as a sequence of lines.\n",
    "\n",
    "- Writing to a file\n",
    "\n",
    "print(..., file=$<$outputFile$>$)\n",
    "\n",
    "- Example 1\n",
    "\n",
    "The following fragment of code opens and prints out all the lines of a file \"Lab1-data.csv\". The for loop together with **print(line[:1])** is applied to automatically display all the lines and then strip off the newline character at the end of the line. Alternatively, we could use **print(line, end=\"\")** to display the whole line, but simply tell print not to add its own newline character.\n",
    "\n",
    "Also, after finish working with the file, don't forget to close it using **close()**."
   ],
   "metadata": {}
  },
  {
   "cell_type": "code",
   "execution_count": null,
   "source": [
    "f = open(\"Lab1-data.csv\", \"r\")\r\n",
    "for line in f:\r\n",
    "    print(line[:-1])\r\n",
    "    # print(line, end = \"\")\r\n",
    "f.close()"
   ],
   "outputs": [],
   "metadata": {}
  },
  {
   "cell_type": "markdown",
   "source": [
    "- Example 2\n",
    "\n",
    "The following fragment of code opens the new text file \"writefile.txt\" in write (\"w\") mode. Then, we use the function **write()** to write information into the text file. Alternatively, we can use **print()** function together with an extra keyword parameter that specifies the file."
   ],
   "metadata": {}
  },
  {
   "cell_type": "code",
   "execution_count": null,
   "source": [
    "f2 = open(\"writefile.txt\", \"w\") \r\n",
    "# \"w\": each time we run this statement, the content replaces the previous version \r\n",
    "msg = \"Welcome to INDE2000(5000)\\nSupply Chain Modelling and Optimisation\\n\"\r\n",
    "f2.write(msg)\r\n",
    "# print(msg, file=f2)\r\n",
    "f2.close()\r\n",
    "\r\n",
    "f3 = open(\"writefile.txt\", \"r\")\r\n",
    "for line in f3:\r\n",
    "    print(line[:-1])\r\n",
    "f3.close()"
   ],
   "outputs": [],
   "metadata": {}
  },
  {
   "cell_type": "markdown",
   "source": [
    "- Example 3\n",
    "\n",
    "The following fragment of code opens the text file \"writefile.txt\" in append (\"a\") mode. Then, we use the function **write()** to add information into the text file."
   ],
   "metadata": {}
  },
  {
   "cell_type": "code",
   "execution_count": null,
   "source": [
    "f4 = open(\"writefile.txt\", \"a\")\r\n",
    "# \"a\": append(add) the same msg to the same file\r\n",
    "addmsg = \"How's your day\\n\"\r\n",
    "f4.write(addmsg)\r\n",
    "f4.close()\r\n",
    "\r\n",
    "f5 = open(\"writefile.txt\", \"r\")\r\n",
    "for line in f5:\r\n",
    "    print(line[:-1])\r\n",
    "f5.close()"
   ],
   "outputs": [],
   "metadata": {}
  },
  {
   "cell_type": "code",
   "execution_count": null,
   "source": [
    "%reset"
   ],
   "outputs": [],
   "metadata": {}
  },
  {
   "cell_type": "markdown",
   "source": [
    "---"
   ],
   "metadata": {}
  },
  {
   "cell_type": "markdown",
   "source": [
    "#### References\n",
    "\n",
    "A. Sweigart, \"Python Cheatsheet.\" https://www.pythoncheatsheet.org/ (accessed Jan. 10, 2021)\n",
    "\n",
    "J. Zelle, \"Python programming: An introduction to Computer Science\", 3rd ed. Portland, Oregon, USA: Franklin, Beedle & Associates Inc, 2016.\n"
   ],
   "metadata": {}
  }
 ]
}